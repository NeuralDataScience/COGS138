{
 "cells": [
  {
   "cell_type": "markdown",
   "metadata": {
    "nbgrader": {
     "grade": false,
     "grade_id": "cell-c0b2605705acf23e",
     "locked": true,
     "schema_version": 3,
     "solution": false
    }
   },
   "source": [
    "# Assignment 0: Tools and setting up your computer\n",
    "\n",
    "This assignment simply checks that you can access our assignments and will familiarize you with submitting assignments via nbgrader.\n",
    "\n",
    "\n",
    "**PLEASE DO NOT CHANGE THE NAME OF THIS FILE.**\n",
    "\n",
    "**PLEASE DO NOT COPY & PASTE OR DELETE CELLS INLCUDED IN THE ASSIGNMENT.**\n",
    "\n",
    "\n",
    "## How to complete assignments\n",
    "\n",
    "Whenever you see:\n",
    "\n",
    "```\n",
    "# YOUR CODE HERE\n",
    "raise NotImplementedError()\n",
    "```\n",
    "\n",
    "You need to **replace (by which we mean _delete_) these lines of code with code that answers the questions** and meets the specified criteria. Make sure you remove the 'raise' line when you do this (or your notebook will raise an error, regardless of any other code, and thus fail the grading tests).\n",
    "\n",
    "You should write the answer to the questions in those cells (the ones with `# YOUR CODE HERE`), but you can also add extra cells to explore / investigate things if you need / want to. \n",
    "\n",
    "Any cell with `assert` statements in it is a test cell. You should not try to change or delete these cells. Note that there might be more than one assert that tests a particular question. \n",
    "\n",
    "If a test does fail, reading the error that is printed out should let you know which test failed, which may be useful for fixing it.\n",
    "\n",
    "Note that some cells, including the test cells, may be read only, which means they won't let you edit them. If you cannot edit a cell - that is normal, and you shouldn't need to edit that cell."
   ]
  },
  {
   "cell_type": "markdown",
   "metadata": {
    "nbgrader": {
     "grade": false,
     "grade_id": "cell-201b22a99b2f74d7",
     "locked": true,
     "schema_version": 3,
     "solution": false
    }
   },
   "source": [
    "## Q1\n",
    "\n",
    "Create a variable called `my_name`, and assign a string to it that is your name. In other words, enter `my_name = 'name'`. Be sure to put your name in single quotes, e.g., `'Brad'`."
   ]
  },
  {
   "cell_type": "code",
   "execution_count": 5,
   "metadata": {
    "nbgrader": {
     "grade": false,
     "grade_id": "cell-4995bf24615505c5",
     "locked": false,
     "schema_version": 3,
     "solution": true
    }
   },
   "outputs": [],
   "source": [
    "### BEGIN SOLUTION\n",
    "my_name = 'string'\n",
    "### END SOLUTION"
   ]
  },
  {
   "cell_type": "code",
   "execution_count": 6,
   "metadata": {
    "nbgrader": {
     "grade": true,
     "grade_id": "cell-8280dfa952e91135",
     "locked": true,
     "points": 10,
     "schema_version": 3,
     "solution": false
    }
   },
   "outputs": [],
   "source": [
    "## TESTS FOR Q1, worth 10 points\n",
    "# This is a test cell. It checks that the code you wrote does what it's supposed to.\n",
    "# You can use the information in this cell to make sure you've met the expectations for the question.\n",
    "assert  my_name                     # This tests that a variable \"my_name\" exists\n",
    "assert  isinstance(my_name, str)    # isinstance() tests that \"my_name\" is of a particular type (here, a string)"
   ]
  },
  {
   "cell_type": "markdown",
   "metadata": {
    "nbgrader": {
     "grade": false,
     "grade_id": "cell-0b7e548919dbf0ea",
     "locked": true,
     "schema_version": 3,
     "solution": false
    }
   },
   "source": [
    "## Q2\n",
    "Occasionally, we'll use these notebooks to ask multiple choice questions. When you respond to a multiple choice question, **be sure to put your response in single quotation marks, the way you did in Q1**. This will ensure that Python will read your response as a **string**.\n",
    "\n",
    "Unless otherwise stated, the variable name for the answer to these kinds of questions should always be in the format of qX_answer, where the q means \"**q**uestion\" and the X is replaced by the question number. Since this is Q2, your variable name will therefore be `q2_answer`.\n",
    "\n",
    "For example, if I wanted to respond with a hypothetical answer \"E\", I would write `q2_answer = 'E'`\n",
    "\n",
    "Respond to the question below:\n",
    "\n",
    "What is the **kernel**?\n",
    "\n",
    "- A) A list of the variables stored in Python memory.\n",
    "- B) An object that returns a string.\n",
    "- C) A way to specify that you are using math variables and not programming variables.\n",
    "- D) Where your code runs; your Jupyter notebook is connected to the kernel."
   ]
  },
  {
   "cell_type": "code",
   "execution_count": null,
   "metadata": {
    "nbgrader": {
     "grade": false,
     "grade_id": "cell-8d20cdb4d0f455ff",
     "locked": false,
     "schema_version": 3,
     "solution": true
    }
   },
   "outputs": [],
   "source": [
    "### BEGIN SOLUTION\n",
    "q2_answer = 'D'\n",
    "### END SOLUTION"
   ]
  },
  {
   "cell_type": "code",
   "execution_count": null,
   "metadata": {
    "nbgrader": {
     "grade": true,
     "grade_id": "cell-1f9b7f3a324344ed",
     "locked": true,
     "points": 10,
     "schema_version": 3,
     "solution": false
    }
   },
   "outputs": [],
   "source": [
    "## TESTS FOR Q2, worth 10 points [Note: Includes A Hidden Test]\n",
    "assert q2_answer\n",
    "\n",
    "### BEGIN HIDDEN TESTS\n",
    "assert q2_answer == 'D'\n",
    "### END HIDDEN TESTS"
   ]
  },
  {
   "cell_type": "markdown",
   "metadata": {
    "nbgrader": {
     "grade": false,
     "grade_id": "cell-485e5c97cea14603",
     "locked": true,
     "schema_version": 3,
     "solution": false,
     "task": false
    }
   },
   "source": [
    "## Q3\n",
    "According to Professor Voytek, why is neuroanatomical knowledge especially important for *neural data science*?\n",
    "\n",
    "- A) Neuroanatomical knowledge helps us create better encoding/decoding models.\n",
    "- B) Neuroanatomy isn't important for neural data science.\n",
    "- C) Neuroanatomy is critcial for patient diagnosis.\n",
    "- D) Neuroanatomical knowledge helps research collaborations."
   ]
  },
  {
   "cell_type": "code",
   "execution_count": null,
   "metadata": {
    "nbgrader": {
     "grade": false,
     "grade_id": "cell-70e47f12b6d77d4c",
     "locked": false,
     "schema_version": 3,
     "solution": true,
     "task": false
    }
   },
   "outputs": [],
   "source": [
    "### BEGIN SOLUTION\n",
    "q3_answer = 'A'\n",
    "### END SOLUTION"
   ]
  },
  {
   "cell_type": "code",
   "execution_count": null,
   "metadata": {
    "nbgrader": {
     "grade": true,
     "grade_id": "cell-71e6e1f3e847e016",
     "locked": true,
     "points": 10,
     "schema_version": 3,
     "solution": false,
     "task": false
    }
   },
   "outputs": [],
   "source": [
    "## TESTS FOR Q3, worth 10 points [Note: Includes A Hidden Test]\n",
    "assert q3_answer\n",
    "\n",
    "### BEGIN HIDDEN TESTS\n",
    "assert q3_answer == 'A'\n",
    "### END HIDDEN TESTS"
   ]
  },
  {
   "cell_type": "markdown",
   "metadata": {
    "nbgrader": {
     "grade": false,
     "grade_id": "cell-8b0dc1e2dd78b70d",
     "locked": true,
     "schema_version": 3,
     "solution": false
    }
   },
   "source": [
    "## Q4\n",
    "\n",
    "Write code below that\n",
    "1. Assigns the value \"2\" to `a`\n",
    "2. Assigns the value \"4\" to `b`\n",
    "3. Multiplies `a` times `b` and saves it as a variable, `c`."
   ]
  },
  {
   "cell_type": "code",
   "execution_count": 1,
   "metadata": {
    "nbgrader": {
     "grade": false,
     "grade_id": "cell-3d608ef3ac4ec904",
     "locked": false,
     "schema_version": 3,
     "solution": true
    }
   },
   "outputs": [],
   "source": [
    "### BEGIN SOLUTION\n",
    "a = 2\n",
    "b = 4\n",
    "c = a * b\n",
    "### END SOLUTION"
   ]
  },
  {
   "cell_type": "code",
   "execution_count": 5,
   "metadata": {
    "nbgrader": {
     "grade": true,
     "grade_id": "cell-9f60eddf4367b314",
     "locked": true,
     "points": 15,
     "schema_version": 3,
     "solution": false
    }
   },
   "outputs": [],
   "source": [
    "## TESTS FOR Q4, worth 15 points [Note: Hidden Tests.]\n",
    "assert a and b and c\n",
    "\n",
    "### BEGIN HIDDEN TESTS\n",
    "assert a == 2\n",
    "assert b == 4\n",
    "assert c == 8\n",
    "### END HIDDEN TESTS"
   ]
  },
  {
   "cell_type": "markdown",
   "metadata": {
    "nbgrader": {
     "grade": false,
     "grade_id": "cell-57e97feda6f15620",
     "locked": true,
     "schema_version": 3,
     "solution": false
    }
   },
   "source": [
    "## Q5\n",
    "How are you feeling so far? Create a variable `feeling` and assign your response to it.\n",
    "\n",
    "- A) No problems!\n",
    "- B) This isn't so bad.\n",
    "- C) I had a lot of trouble getting this to work.\n",
    "- D) I'm deeply, terribly confused."
   ]
  },
  {
   "cell_type": "code",
   "execution_count": 1,
   "metadata": {
    "nbgrader": {
     "grade": false,
     "grade_id": "cell-9e5ee257e7bd6c04",
     "locked": false,
     "schema_version": 3,
     "solution": true
    }
   },
   "outputs": [],
   "source": [
    "### BEGIN SOLUTION\n",
    "feeling = 'A'\n",
    "### END SOLUTION"
   ]
  },
  {
   "cell_type": "code",
   "execution_count": 2,
   "metadata": {
    "nbgrader": {
     "grade": true,
     "grade_id": "cell-140a35f46e79f334",
     "locked": true,
     "points": 5,
     "schema_version": 3,
     "solution": false
    }
   },
   "outputs": [],
   "source": [
    "## TESTS FOR Q5, worth 5 points\n",
    "assert feeling"
   ]
  }
 ],
 "metadata": {
  "celltoolbar": "Create Assignment",
  "kernelspec": {
   "display_name": "Python 3",
   "language": "python",
   "name": "python3"
  },
  "language_info": {
   "codemirror_mode": {
    "name": "ipython",
    "version": 3
   },
   "file_extension": ".py",
   "mimetype": "text/x-python",
   "name": "python",
   "nbconvert_exporter": "python",
   "pygments_lexer": "ipython3",
   "version": "3.8.8"
  }
 },
 "nbformat": 4,
 "nbformat_minor": 2
}
