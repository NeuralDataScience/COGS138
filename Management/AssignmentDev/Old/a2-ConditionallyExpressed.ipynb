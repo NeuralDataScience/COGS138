{
 "cells": [
  {
   "cell_type": "markdown",
   "metadata": {
    "nbgrader": {
     "grade": false,
     "grade_id": "cell-57b7f822335cb300",
     "locked": true,
     "schema_version": 3,
     "solution": false
    }
   },
   "source": [
    "# A2 Conditionally Expressed\n",
    "In this assignment, you'll apply what you know about lists, conditionals, and for loops to interact with a microarray dataset from the Allen Brain Institute. We've already processed the raw data such that it is normalized and organized into a file arranged by gene names and brain areas (brainarea_vs_genes_exp_w_reannotations.tsv). Before you can begin this assignment, you need to download this dataset from datahub and upload it in the same folder as this assignment. We'll review this in class.\n",
    "\n",
    "This assignment is worth 50 points (5 points or 5% of your grade for the class).\n",
    "\n",
    "**PLEASE DO NOT CHANGE THE NAME OF THIS FILE.**\n",
    "\n",
    "**PLEASE DO NOT COPY & PASTE OR DELETE CELLS INCLUDED IN THE ASSIGNMENT.**\n",
    "\n",
    "\n",
    "## How to complete assignments\n",
    "\n",
    "Whenever you see:\n",
    "\n",
    "```\n",
    "# YOUR CODE HERE\n",
    "raise NotImplementedError()\n",
    "```\n",
    "\n",
    "You need to **replace (meaning, delete) these lines of code with code that answers the questions** and meets the specified criteria. Make sure you remove the 'raise' line when you do this (or your notebook will raise an error, regardless of any other code, and thus fail the grading tests).\n",
    "\n",
    "You should write the answer to the questions in those cells (the ones with `# YOUR CODE HERE`), but you can also add extra cells to explore / investigate things if you need / want to. \n",
    "\n",
    "Any cell with `assert` statements in it is a test cell. You should not try to change or delete these cells. Note that there might be more than one assert that tests a particular question. \n",
    "\n",
    "If a test does fail, reading the error that is printed out should let you know which test failed, which may be useful for fixing it.\n",
    "\n",
    "Note that some cells, including the test cells, may be read only, which means they won't let you edit them. If you cannot edit a cell - that is normal, and you shouldn't need to edit that cell.\n",
    "\n",
    "\n",
    "## Tips & Tricks\n",
    "\n",
    "The following are a couple tips & tricks that may help you if you get stuck on anything.\n",
    "\n",
    "#### Printing Variables\n",
    "You can (and should) print and check variables as you go. This allows you to check what values they hold, and fix things if anything unexpected happens.\n",
    "\n",
    "#### Restarting the Kernel\n",
    "- If you run cells out of order, you can end up overwriting things in your namespace. \n",
    "- If things seem to go weird, a good first step is to restart the kernel, which you can do from the kernel menu above.\n",
    "- Even if everything seems to be working, it's a nice check to 'Restart & Run All', to make sure everything runs properly in order."
   ]
  },
  {
   "cell_type": "markdown",
   "metadata": {
    "nbgrader": {
     "grade": false,
     "grade_id": "cell-4956678a3a7473e2",
     "locked": true,
     "schema_version": 3,
     "solution": false
    }
   },
   "source": [
    "### Loading in the data\n",
    "First, we'll take a few steps to load up the dataset. After you have uploaded the 'brainarea_vs_genes_exp_w_reannotations.tsv' file to your directory, simply run the code below -- you don't need to change anything."
   ]
  },
  {
   "cell_type": "code",
   "execution_count": 1,
   "metadata": {},
   "outputs": [],
   "source": [
    "# Import necessary packages\n",
    "from csv import reader\n",
    "\n",
    "# Open the tab-delimited file\n",
    "opened_file = open('brainarea_vs_genes_exp_w_reannotations.tsv')\n",
    "read_file = reader(opened_file, delimiter = '\\t')\n",
    "gene_data = list(read_file)"
   ]
  },
  {
   "cell_type": "markdown",
   "metadata": {
    "nbgrader": {
     "grade": false,
     "grade_id": "cell-056e8d30e5435480",
     "locked": true,
     "schema_version": 3,
     "solution": false
    }
   },
   "source": [
    "## Q1\n",
    "\n",
    "Above, the variable `gene_data` is a list of lists. The first list is a list of headers for the array, containing a first item 'gene_symbol', followed by a list of brain regions.\n",
    "\n",
    "In the cell below, assign the first list of `gene_data` to a variable called `brain_regions`. The first entry of the list, 'gene_symbol' isn't a brain region, but that's okay for this exercise. Leave it in the list."
   ]
  },
  {
   "cell_type": "code",
   "execution_count": 2,
   "metadata": {
    "nbgrader": {
     "grade": false,
     "grade_id": "cell-e346d449861e6459",
     "locked": false,
     "schema_version": 3,
     "solution": true
    }
   },
   "outputs": [],
   "source": [
    "### BEGIN SOLUTION\n",
    "brain_regions = gene_data[0]\n",
    "### END SOLUTION"
   ]
  },
  {
   "cell_type": "code",
   "execution_count": null,
   "metadata": {
    "nbgrader": {
     "grade": true,
     "grade_id": "cell-ddeb4d2148b3eeaf",
     "locked": true,
     "points": 5,
     "schema_version": 3,
     "solution": false
    }
   },
   "outputs": [],
   "source": [
    "# Tests for Q1, worth 5 points total. Note: includes hidden tests.\n",
    "assert isinstance(brain_regions,list)\n",
    "\n",
    "### BEGIN HIDDEN TESTS\n",
    "assert len(brain_regions) == 233\n",
    "### END HIDDEN TESTS"
   ]
  },
  {
   "cell_type": "markdown",
   "metadata": {
    "nbgrader": {
     "grade": false,
     "grade_id": "cell-18ac13ccc11b1e23",
     "locked": true,
     "schema_version": 3,
     "solution": false
    }
   },
   "source": [
    "## Q2\n",
    "\n",
    "For our study, we're interested in seeing if the superior colliculus and visual cortex have different gene expression. First, we need to know if they're in our list of brain regions.\n",
    "\n",
    "Write two statements to check if 'superior colliculus' and 'visual cortex' are in your list of brain regions (`brain_region`). Save the boolean outputs of these membership checks as `SC_bool` and `VC_bool`, respectively. Print the values of `SC_bool` and `VC_bool` so that you can see them."
   ]
  },
  {
   "cell_type": "code",
   "execution_count": null,
   "metadata": {
    "nbgrader": {
     "grade": false,
     "grade_id": "cell-53f6aa85b1471c7a",
     "locked": false,
     "schema_version": 3,
     "solution": true
    }
   },
   "outputs": [],
   "source": [
    "### BEGIN SOLUTION\n",
    "SC_bool = 'superior colliculus' in brain_regions\n",
    "VC_bool = 'visual cortex' in brain_regions\n",
    "print(SC_bool)\n",
    "print(VC_bool)\n",
    "### END SOLUTION"
   ]
  },
  {
   "cell_type": "code",
   "execution_count": null,
   "metadata": {
    "nbgrader": {
     "grade": true,
     "grade_id": "cell-de87506920bf04d6",
     "locked": true,
     "points": 5,
     "schema_version": 3,
     "solution": false
    }
   },
   "outputs": [],
   "source": [
    "# Tests for Q2, worth 5 points\n",
    "assert isinstance(SC_bool,bool)\n",
    "assert isinstance(VC_bool,bool)"
   ]
  },
  {
   "cell_type": "code",
   "execution_count": null,
   "metadata": {
    "nbgrader": {
     "grade": true,
     "grade_id": "cell-e69e41625847b7e5",
     "locked": true,
     "points": 5,
     "schema_version": 3,
     "solution": false,
     "task": false
    }
   },
   "outputs": [],
   "source": [
    "# Hidden tests for Q2, worth 5 points\n",
    "## BEGIN HIDDEN TESTS\n",
    "assert SC_bool == True\n",
    "assert VC_bool == False\n",
    "### END HIDDEN TESTS"
   ]
  },
  {
   "cell_type": "markdown",
   "metadata": {
    "nbgrader": {
     "grade": false,
     "grade_id": "cell-37e33325b012c9f0",
     "locked": true,
     "schema_version": 3,
     "solution": false
    }
   },
   "source": [
    "## Q3\n",
    "Hmm, looks like the data has superior colliculus but not visual cortex. In humans, visual cortex is often called \"striate cortex\", because of the appearance of a dense layer of myelinated fiber that runs through it, called the Line of Gennari (details <a href=\"https://webvision.med.utah.edu/book/part-ix-brain-visual-areas/the-primary-visual-cortex/\">here</a>, if you're curious). It's also a part of the occiptal lobe, and the gyri and sulci there are named accordingly.\n",
    "\n",
    "To get a sense of what possible visual regions are in our list, we can look for _striate_ and _occiptal_ in the strings for each brain region. \n",
    "\n",
    "1. Write a `for` loop that loops through the list of brain regions and looks for *either* \"striate\" or \"occipital\" within the string for each of the brain regions in your list. Save all of the possible matches to a list called `possible_regions`.\n",
    "2. Create a counter (called `counter` that shows you how many brain regions you have at the end. Save the output of this counter as a variable called `regions_message` that says \"There are X possible visual regions\" where \"X\" is the value of your counter.\n",
    "3. At the end, print your list of possible regions so that you can see what it includes."
   ]
  },
  {
   "cell_type": "code",
   "execution_count": null,
   "metadata": {
    "nbgrader": {
     "grade": false,
     "grade_id": "cell-0902d4d0a438dc72",
     "locked": false,
     "schema_version": 3,
     "solution": true
    }
   },
   "outputs": [],
   "source": [
    "### BEGIN SOLUTION\n",
    "possible_regions = []\n",
    "counter = 0\n",
    "\n",
    "for i in range(len(brain_regions)):\n",
    "    if 'occipital' in brain_regions[i]:\n",
    "        possible_regions.append(brain_regions[i])\n",
    "        counter = counter + 1\n",
    "    elif 'striate' in brain_regions[i]:\n",
    "        possible_regions.append(brain_regions[i])\n",
    "        counter = counter + 1\n",
    "        \n",
    "regions_message = \"There are \" + str(counter) + \" possible visual regions.\"\n",
    "print(regions_message)\n",
    "print(possible_regions)\n",
    "### END SOLUTION"
   ]
  },
  {
   "cell_type": "code",
   "execution_count": null,
   "metadata": {
    "nbgrader": {
     "grade": true,
     "grade_id": "cell-114195085a27e773",
     "locked": true,
     "points": 5,
     "schema_version": 3,
     "solution": false
    }
   },
   "outputs": [],
   "source": [
    "# Tests for Q3, worth 5 points.\n",
    "assert isinstance(possible_regions,list)\n",
    "assert isinstance(counter,int)\n",
    "assert isinstance(regions_message,str)"
   ]
  },
  {
   "cell_type": "code",
   "execution_count": null,
   "metadata": {
    "nbgrader": {
     "grade": true,
     "grade_id": "cell-899c2fba6b4f87d6",
     "locked": true,
     "points": 5,
     "schema_version": 3,
     "solution": false
    }
   },
   "outputs": [],
   "source": [
    "# Hidden Tests for Q3, worth 5 points.\n",
    "### BEGIN HIDDEN TESTS\n",
    "assert len(possible_regions) == 11\n",
    "### END HIDDEN TESTS"
   ]
  },
  {
   "cell_type": "code",
   "execution_count": null,
   "metadata": {
    "nbgrader": {
     "grade": true,
     "grade_id": "cell-ca841ab91098c3e5",
     "locked": true,
     "points": 5,
     "schema_version": 3,
     "solution": false,
     "task": false
    }
   },
   "outputs": [],
   "source": [
    "# Hidden Tests for Q3, worth 5 points.\n",
    "### BEGIN HIDDEN TESTS\n",
    "assert counter == 11\n",
    "### END HIDDEN TESTS"
   ]
  },
  {
   "cell_type": "code",
   "execution_count": null,
   "metadata": {
    "nbgrader": {
     "grade": true,
     "grade_id": "cell-a17ceae571b65b88",
     "locked": true,
     "points": 5,
     "schema_version": 3,
     "solution": false
    }
   },
   "outputs": [],
   "source": [
    "# Hidden Tests for Q3, worth 5 points.\n",
    "### BEGIN HIDDEN TESTS\n",
    "assert regions_message == \"There are 11 possible visual regions.\"\n",
    "### END HIDDEN TESTS"
   ]
  },
  {
   "cell_type": "markdown",
   "metadata": {
    "nbgrader": {
     "grade": false,
     "grade_id": "cell-172df9c06825b8b0",
     "locked": true,
     "schema_version": 3,
     "solution": false
    }
   },
   "source": [
    "## Q4\n",
    "\n",
    "![](https://resource.loni.usc.edu/wp-content/uploads/2012/06/LINGUAL01.jpg)\n",
    "\n",
    "Let's go with '_lingual gyrus, striate_' -- that's a nice chunk of brain that encompasses visual cortex in humans (see the pink area above, details <a href=\"https://resource.loni.usc.edu/resources/downloads/research-protocols/masking-regions/lingual-gyrus/\">here</a>.\n",
    "\n",
    "Now that we know that 'lingual gyrus, striate' and 'superior colliculus' are both in our list, we need to know their index so that we can look for their corresponding values in the lists for each gene. For that, we can use the `index` method on our list (see the help for Index, or <a href=\"https://www.programiz.com/python-programming/methods/list/index\">this tutorial.</a>)\n",
    "\n",
    "Find the index of the 'lingual gyrus, striate' and 'superior colliculus' and save them as `LG_index` and `SC_index`, respectively."
   ]
  },
  {
   "cell_type": "code",
   "execution_count": null,
   "metadata": {
    "nbgrader": {
     "grade": false,
     "grade_id": "cell-b07a5394f196fcde",
     "locked": false,
     "schema_version": 3,
     "solution": true
    }
   },
   "outputs": [],
   "source": [
    "### BEGIN SOLUTION\n",
    "LG_index = brain_regions.index('lingual gyrus, striate')\n",
    "SC_index = brain_regions.index('superior colliculus')\n",
    "print(LG_index)\n",
    "print(SC_index)\n",
    "### END SOLUTION"
   ]
  },
  {
   "cell_type": "code",
   "execution_count": null,
   "metadata": {
    "nbgrader": {
     "grade": true,
     "grade_id": "cell-fc9f2f9bc2c73a33",
     "locked": true,
     "points": 5,
     "schema_version": 3,
     "solution": false
    }
   },
   "outputs": [],
   "source": [
    "# Tests for Q4, worth 5 points.\n",
    "assert isinstance(LG_index,int)\n",
    "assert isinstance(SC_index,int)"
   ]
  },
  {
   "cell_type": "code",
   "execution_count": null,
   "metadata": {
    "nbgrader": {
     "grade": true,
     "grade_id": "cell-17dfde6eb2fac9b0",
     "locked": true,
     "points": 10,
     "schema_version": 3,
     "solution": false,
     "task": false
    }
   },
   "outputs": [],
   "source": [
    "# Hidden Tests for Q4, worth 10 points.\n",
    "### BEGIN HIDDEN TESTS\n",
    "assert LG_index == 125\n",
    "assert SC_index == 206\n",
    "### END HIDDEN TESTS"
   ]
  },
  {
   "cell_type": "markdown",
   "metadata": {
    "nbgrader": {
     "grade": false,
     "grade_id": "cell-bb0a2625852847bf",
     "locked": true,
     "schema_version": 3,
     "solution": false
    }
   },
   "source": [
    "## Q5\n",
    "\n",
    "Searching for our gene in this dataset is a little tricky, since each row is a different list, but we can do it with a for loop. Let's say we're interested in **DISC1**, <a href=\"https://www.nature.com/articles/tp2016282\">a gene that is associated with schizophrenia</a>.\n",
    "\n",
    "Write a `for` loop that loops through each row (list) of our data, and checks if the first entry in that list is DISC1. When it finds DISC1, assign the entire list of values (including the DISC1 label) to `DISC1_data`."
   ]
  },
  {
   "cell_type": "code",
   "execution_count": null,
   "metadata": {
    "nbgrader": {
     "grade": false,
     "grade_id": "cell-e418f5791187648a",
     "locked": false,
     "schema_version": 3,
     "solution": true
    }
   },
   "outputs": [],
   "source": [
    "### BEGIN SOLUTION\n",
    "for i in range(len(gene_data)):\n",
    "    if gene_data[i][0] == 'DISC1':\n",
    "        DISC1_data = gene_data[i]\n",
    "### END SOLUTION"
   ]
  },
  {
   "cell_type": "code",
   "execution_count": null,
   "metadata": {
    "nbgrader": {
     "grade": true,
     "grade_id": "cell-494deb61f965472c",
     "locked": true,
     "points": 5,
     "schema_version": 3,
     "solution": false
    }
   },
   "outputs": [],
   "source": [
    "# Tests for Q5, worth 5 points.\n",
    "assert isinstance(DISC1_data,list)"
   ]
  },
  {
   "cell_type": "code",
   "execution_count": null,
   "metadata": {
    "nbgrader": {
     "grade": true,
     "grade_id": "cell-765fda140a78c850",
     "locked": true,
     "points": 10,
     "schema_version": 3,
     "solution": false,
     "task": false
    }
   },
   "outputs": [],
   "source": [
    "# Hidden Tests for Q5, worth 10 points.\n",
    "### BEGIN HIDDEN TESTS\n",
    "assert DISC1_data[0] == 'DISC1'\n",
    "assert len(DISC1_data) == 233\n",
    "### END HIDDEN TESTS"
   ]
  },
  {
   "cell_type": "markdown",
   "metadata": {
    "nbgrader": {
     "grade": false,
     "grade_id": "cell-3a022416d2152970",
     "locked": true,
     "schema_version": 3,
     "solution": false
    }
   },
   "source": [
    "## Q6\n",
    "Using the indices we saved above, now we can look to see whether expression of DISC1 is higher in the superior colliculus or in the occipital lobe.\n",
    "\n",
    "1. Save the gene expression values for superior colliculus and the occiptal lobe as `SC_DISC1` and `LG_DISC1` respectively, by using the indices you saved in the previous step.\n",
    "2. Check the type of these. If they're not a float, convert each of them into a float (still assigned to `SC_DISC1` and `LG_DISC1`."
   ]
  },
  {
   "cell_type": "code",
   "execution_count": null,
   "metadata": {
    "nbgrader": {
     "grade": false,
     "grade_id": "cell-aa1098e09c74b91f",
     "locked": false,
     "schema_version": 3,
     "solution": true
    }
   },
   "outputs": [],
   "source": [
    "### BEGIN SOLUTION\n",
    "SC_DISC1 = float(DISC1_data[SC_index])\n",
    "LG_DISC1 = float(DISC1_data[LG_index])\n",
    "print(SC_DISC1)\n",
    "print(LG_DISC1)\n",
    "### END SOLUTION"
   ]
  },
  {
   "cell_type": "code",
   "execution_count": null,
   "metadata": {
    "nbgrader": {
     "grade": true,
     "grade_id": "cell-ca28c95f0aa3d782",
     "locked": true,
     "points": 5,
     "schema_version": 3,
     "solution": false
    }
   },
   "outputs": [],
   "source": [
    "# Tests for Q6, worth 5 points\n",
    "assert isinstance(SC_DISC1,float)\n",
    "assert isinstance(LG_DISC1,float)"
   ]
  },
  {
   "cell_type": "code",
   "execution_count": null,
   "metadata": {
    "nbgrader": {
     "grade": true,
     "grade_id": "cell-67b12dda2fbefab1",
     "locked": true,
     "points": 10,
     "schema_version": 3,
     "solution": false,
     "task": false
    }
   },
   "outputs": [],
   "source": [
    "# Hidden tests for Q6, worth 10 points\n",
    "\n",
    "### BEGIN HIDDEN TESTS\n",
    "assert SC_DISC1 > 1\n",
    "assert LG_DISC1 < 1\n",
    "### END HIDDEN TESTS"
   ]
  },
  {
   "cell_type": "markdown",
   "metadata": {},
   "source": [
    "## Q7\n",
    "\n",
    "Given the data points that we have here in `SC_DISC1` and `LG_DISC1`, what could we reasonably claim?\n",
    "\n",
    "**Note:** Remember that you can indicate your response on a multiple choice by assigning a string with your one letter response to `answer`.\n",
    "\n",
    "* `A` : superior colliculus has greater expression of DISC1 than other genes\n",
    "* `B` : superior colliculus has less expression of DISC1 than other genes\n",
    "* `C` : superior colliculus has greater expression of DISC1 than the lingual gyrus\n",
    "* `D` : superior colliculus has less expression of DISC1 than the lingual gyrus"
   ]
  },
  {
   "cell_type": "code",
   "execution_count": null,
   "metadata": {
    "nbgrader": {
     "grade": false,
     "grade_id": "cell-4d28ec3218b5eca3",
     "locked": false,
     "schema_version": 3,
     "solution": true,
     "task": false
    }
   },
   "outputs": [],
   "source": [
    "### BEGIN SOLUTION\n",
    "answer = 'C'\n",
    "### END SOLUTION"
   ]
  },
  {
   "cell_type": "code",
   "execution_count": null,
   "metadata": {
    "nbgrader": {
     "grade": true,
     "grade_id": "cell-5455982a793bf006",
     "locked": true,
     "points": 5,
     "schema_version": 3,
     "solution": false,
     "task": false
    }
   },
   "outputs": [],
   "source": [
    "# Tests for Q7, worth 5 points (note: includes hidden tests).\n",
    "\n",
    "assert answer in ['A','B','C','D']\n",
    "\n",
    "### BEGIN HIDDEN TESTS\n",
    "assert answer == 'C'\n",
    "### END HIDDEN TESTS"
   ]
  },
  {
   "cell_type": "markdown",
   "metadata": {
    "nbgrader": {
     "grade": false,
     "grade_id": "cell-574b33b30e0058d9",
     "locked": true,
     "schema_version": 3,
     "solution": false
    }
   },
   "source": [
    "## Q8\n",
    "\n",
    "We could also decide to guide our interest in brain regions based on higher expression of DISC1. For all of the values of DISC1, look for expression values that are greater than **1.5**, and save these as a list called `high_DISC1`. In the end, `high_DISC1` should contain a list of brain areas with expression values higher than 1.5.\n",
    "\n",
    "**Note**: Remember that the first value in each list is the name of the gene; you might need to skip it."
   ]
  },
  {
   "cell_type": "code",
   "execution_count": null,
   "metadata": {
    "nbgrader": {
     "grade": false,
     "grade_id": "cell-7649027213fce9d6",
     "locked": false,
     "schema_version": 3,
     "solution": true
    }
   },
   "outputs": [],
   "source": [
    "### BEGIN SOLUTION\n",
    "high_DISC1 = []\n",
    "\n",
    "for i in range(len(DISC1_data)):\n",
    "    if i == 0:\n",
    "        continue\n",
    "    if float(DISC1_data[i]) > 1.5:\n",
    "        high_DISC1.append(brain_regions[i])\n",
    "### END SOLUTION"
   ]
  },
  {
   "cell_type": "code",
   "execution_count": null,
   "metadata": {
    "nbgrader": {
     "grade": true,
     "grade_id": "cell-af3b73b4f7f7044e",
     "locked": true,
     "points": 5,
     "schema_version": 3,
     "solution": false
    }
   },
   "outputs": [],
   "source": [
    "# Tests for Q8, worth 5 points\n",
    "assert isinstance(high_DISC1,list)"
   ]
  },
  {
   "cell_type": "code",
   "execution_count": null,
   "metadata": {
    "nbgrader": {
     "grade": true,
     "grade_id": "cell-de57476f3de37d08",
     "locked": true,
     "points": 10,
     "schema_version": 3,
     "solution": false,
     "task": false
    }
   },
   "outputs": [],
   "source": [
    "# Hidden tests for Q8, worth 10 points\n",
    "### BEGIN HIDDEN TESTS\n",
    "assert len(high_DISC1) == 14\n",
    "assert high_DISC1[0] == 'cingulum bundle'\n",
    "### END HIDDEN TESTS"
   ]
  }
 ],
 "metadata": {
  "celltoolbar": "Create Assignment",
  "kernelspec": {
   "display_name": "Python 3",
   "language": "python",
   "name": "python3"
  },
  "language_info": {
   "codemirror_mode": {
    "name": "ipython",
    "version": 3
   },
   "file_extension": ".py",
   "mimetype": "text/x-python",
   "name": "python",
   "nbconvert_exporter": "python",
   "pygments_lexer": "ipython3",
   "version": "3.8.5"
  }
 },
 "nbformat": 4,
 "nbformat_minor": 2
}
