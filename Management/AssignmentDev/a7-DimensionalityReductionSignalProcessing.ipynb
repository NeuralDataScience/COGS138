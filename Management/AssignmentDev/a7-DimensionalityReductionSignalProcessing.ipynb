{
 "cells": [
  {
   "cell_type": "markdown",
   "metadata": {
    "nbgrader": {
     "grade": false,
     "grade_id": "cell-7add9d3562f5e6ac",
     "locked": true,
     "schema_version": 3,
     "solution": false,
     "task": false
    }
   },
   "source": [
    "# Assignment 6: _Dimensionality Reduction and Signal Processing_\n",
    "\n",
    "This assignment will explore: _i)_ reducing the complexity of data analyses by reducing high-dimensional data to something more workable, and _ii)_ processing time-series signal data, such as that obtained from intracranial recordings.\n",
    "\n",
    "This assignment is worth 5 points (5% of your grade). \n",
    "\n",
    "**PLEASE DO NOT CHANGE THE NAME OF THIS FILE.**\n",
    "\n",
    "**PLEASE DO NOT COPY & PASTE OR DELETE CELLS INCLUDED IN THE ASSIGNMENT.**\n",
    "\n",
    "_**PLEASE MAKE SURE ALL PLOTS ARE VISIBLE IN YOUR SUBMITTED ASSIGNMENT**_\n",
    "\n",
    "## How to complete assignments\n",
    "\n",
    "Whenever you see:\n",
    "\n",
    "```\n",
    "# YOUR CODE HERE\n",
    "raise NotImplementedError()\n",
    "```\n",
    "\n",
    "You need to **replace (by which we mean _delete_) these lines of code with code that answers the questions** and meets the specified criteria. Make sure you remove the 'raise' line when you do this (or your notebook will raise an error, regardless of any other code, and thus fail the grading tests).\n",
    "\n",
    "You should write the answer to the questions in those cells (the ones with `# YOUR CODE HERE`), but you can also add extra cells to explore / investigate things if you need / want to. \n",
    "\n",
    "Any cell with `assert` statements in it is a test cell. You should not try to change or delete these cells. Note that there might be more than one assert that tests a particular question. \n",
    "\n",
    "If a test does fail, reading the error that is printed out should let you know which test failed, which may be useful for fixing it.\n",
    "\n",
    "Note that some cells, including the test cells, may be read only, which means they won't let you edit them. If you cannot edit a cell - that is normal, and you shouldn't need to edit that cell.\n",
    "\n",
    "\n",
    "## Tips & Tricks\n",
    "\n",
    "The following are a couple tips & tricks that may help you if you get stuck on anything.\n",
    "\n",
    "#### Printing Variables\n",
    "You can (and should) print and check variables as you go. This allows you to check what values they hold, and fix things if anything unexpected happens.\n",
    "\n",
    "#### Restarting the Kernel\n",
    "- If you run cells out of order, you can end up overwriting things in your namespace. \n",
    "- If things seem to go weird, a good first step is to restart the kernel, which you can do from the kernel menu above.\n",
    "- Even if everything seems to be working, it's a nice check to 'Restart & Run All', to make sure everything runs properly in order."
   ]
  },
  {
   "cell_type": "code",
   "execution_count": 1,
   "metadata": {
    "nbgrader": {
     "grade": false,
     "grade_id": "cell-66ae512250787b27",
     "locked": true,
     "schema_version": 3,
     "solution": false,
     "task": false
    }
   },
   "outputs": [],
   "source": [
    "# We're going to need a number of packages/modules for this assignment\n",
    "import matplotlib as mpl\n",
    "import matplotlib.pyplot as plt\n",
    "\n",
    "%matplotlib inline\n",
    "import seaborn as sns\n",
    "\n",
    "import pandas as pd\n",
    "import numpy as np\n",
    "from scipy import stats"
   ]
  },
  {
   "cell_type": "markdown",
   "metadata": {
    "nbgrader": {
     "grade": false,
     "grade_id": "cell-4ff9a1b4c28b6c46",
     "locked": true,
     "schema_version": 3,
     "solution": false,
     "task": false
    }
   },
   "source": [
    "## Part I: _Dimensionality Reduction_\n",
    "\n",
    "### Q1: _Load in electrophysiology data_ (2 pts)\n",
    " \n",
    "Using `ctc`'s `get_ephys_features` method, retrieve some electrophysiological data (no need to specify any species), save it as a `DataFrame` called `ephys_df`, and set its index to the `'specimen_id'`"
   ]
  },
  {
   "cell_type": "code",
   "execution_count": 2,
   "metadata": {
    "nbgrader": {
     "grade": false,
     "grade_id": "cell-686aa5a7bb2ed3c0",
     "locked": false,
     "schema_version": 3,
     "solution": true,
     "task": false
    }
   },
   "outputs": [],
   "source": [
    "from allensdk.core.cell_types_cache import CellTypesCache\n",
    "\n",
    "ctc = CellTypesCache(manifest_file='cell_types/manifest.json')\n",
    "\n",
    "### BEGIN SOLUTION\n",
    "ephys_df = pd.DataFrame(ctc.get_ephys_features()).set_index('specimen_id')\n",
    "### END SOLUTION"
   ]
  },
  {
   "cell_type": "code",
   "execution_count": 8,
   "metadata": {},
   "outputs": [
    {
     "data": {
      "text/plain": [
       "(2333, 55)"
      ]
     },
     "execution_count": 8,
     "metadata": {},
     "output_type": "execute_result"
    }
   ],
   "source": [
    "ephys_df.shape"
   ]
  },
  {
   "cell_type": "code",
   "execution_count": null,
   "metadata": {
    "nbgrader": {
     "grade": true,
     "grade_id": "cell-0c0caf33bfc2751e",
     "locked": true,
     "points": 1,
     "schema_version": 3,
     "solution": false,
     "task": false
    }
   },
   "outputs": [],
   "source": [
    "# Q1 tests\n",
    "assert isinstance(ephys_df, pd.DataFrame)"
   ]
  },
  {
   "cell_type": "code",
   "execution_count": 3,
   "metadata": {
    "nbgrader": {
     "grade": true,
     "grade_id": "cell-3c47bb9d1b276a6e",
     "locked": true,
     "points": 1,
     "schema_version": 3,
     "solution": false,
     "task": false
    }
   },
   "outputs": [],
   "source": [
    "# Hidden tests for Q1\n",
    "### BEGIN HIDDEN TESTS\n",
    "assert ephys_df.shape == (2333, 55)\n",
    "assert ephys_df.index.name == 'specimen_id'\n",
    "### END HIDDEN TESTS"
   ]
  },
  {
   "cell_type": "markdown",
   "metadata": {
    "nbgrader": {
     "grade": false,
     "grade_id": "cell-29033ca30f358086",
     "locked": true,
     "schema_version": 3,
     "solution": false,
     "task": false
    }
   },
   "source": [
    "### Q2: _Plot histogram of cell adaptation_ (2 pts)\n",
    "\n",
    "- Plot a histogram of the `'adaptation'` column.\n",
    "- Label the x-axis `'Adaptation'`\n",
    "- Does the histogram of this variable suggest that multiple clusters are present?"
   ]
  },
  {
   "cell_type": "code",
   "execution_count": 4,
   "metadata": {
    "nbgrader": {
     "grade": false,
     "grade_id": "cell-4763099c1254012b",
     "locked": false,
     "schema_version": 3,
     "solution": true,
     "task": false
    }
   },
   "outputs": [
    {
     "name": "stderr",
     "output_type": "stream",
     "text": [
      "/opt/conda/lib/python3.6/site-packages/numpy/lib/histograms.py:829: RuntimeWarning: invalid value encountered in greater_equal\n",
      "  keep = (tmp_a >= first_edge)\n",
      "/opt/conda/lib/python3.6/site-packages/numpy/lib/histograms.py:830: RuntimeWarning: invalid value encountered in less_equal\n",
      "  keep &= (tmp_a <= last_edge)\n"
     ]
    },
    {
     "data": {
      "image/png": "[encoded data removed]",
      "text/plain": [
       "<Figure size 432x288 with 1 Axes>"
      ]
     },
     "metadata": {
      "needs_background": "light"
     },
     "output_type": "display_data"
    }
   ],
   "source": [
    "fig = plt.figure()\n",
    "\n",
    "### BEGIN SOLUTION\n",
    "plt.hist(ephys_df.adaptation)\n",
    "plt.xlabel(\"Adaptation\")\n",
    "plt.show()\n",
    "### END SOLUTION"
   ]
  },
  {
   "cell_type": "code",
   "execution_count": 5,
   "metadata": {
    "nbgrader": {
     "grade": true,
     "grade_id": "cell-122ed46042d2bfcf",
     "locked": true,
     "points": 1,
     "schema_version": 3,
     "solution": false,
     "task": false
    }
   },
   "outputs": [],
   "source": [
    "# Q2 tests\n",
    "assert fig.axes[0]._visible"
   ]
  },
  {
   "cell_type": "code",
   "execution_count": null,
   "metadata": {
    "nbgrader": {
     "grade": true,
     "grade_id": "cell-c7fb298c6cd79237",
     "locked": true,
     "points": 1,
     "schema_version": 3,
     "solution": false,
     "task": false
    }
   },
   "outputs": [],
   "source": [
    "# Hidden tests for Q2\n",
    "### BEGIN HIDDEN TESTS\n",
    "assert fig.axes[0].xaxis.label._text.lower() == 'adaptation'\n",
    "### END HIDDEN TESTS"
   ]
  },
  {
   "cell_type": "markdown",
   "metadata": {
    "nbgrader": {
     "grade": false,
     "grade_id": "cell-a759e5a67bcbc31b",
     "locked": true,
     "schema_version": 3,
     "solution": false,
     "task": false
    }
   },
   "source": [
    "### Q3: _Create a subset with numeric columns only, drop rows and columns with `NA`s_ (2 pts)\n",
    "\n",
    "- Assign the **number of rows** of `ephys_subset` to a variable called `subset_rows`.\n",
    "- Assign the **number of columns** of `ephys_subset` to a variable called `subset_rows`."
   ]
  },
  {
   "cell_type": "code",
   "execution_count": 6,
   "metadata": {
    "nbgrader": {
     "grade": false,
     "grade_id": "cell-0a12625265ee61e1",
     "locked": false,
     "schema_version": 3,
     "solution": true,
     "task": false
    }
   },
   "outputs": [],
   "source": [
    "numerics = ['int16', 'int32', 'int64', 'float16', 'float32', 'float64']\n",
    "ephys_subset = ephys_df.select_dtypes(include=numerics)\n",
    "ephys_subset = ephys_subset.dropna(axis=0).dropna(axis=1)\n",
    "\n",
    "### BEGIN SOLUTION\n",
    "subset_rows, subset_columns = ephys_subset.shape\n",
    "### END SOLUTION"
   ]
  },
  {
   "cell_type": "code",
   "execution_count": 9,
   "metadata": {},
   "outputs": [
    {
     "data": {
      "text/plain": [
       "Index(['adaptation', 'avg_isi', 'electrode_0_pa', 'f_i_curve_slope',\n",
       "       'fast_trough_t_long_square', 'fast_trough_t_ramp',\n",
       "       'fast_trough_t_short_square', 'fast_trough_v_long_square',\n",
       "       'fast_trough_v_ramp', 'fast_trough_v_short_square', 'id',\n",
       "       'input_resistance_mohm', 'latency', 'peak_t_long_square', 'peak_t_ramp',\n",
       "       'peak_t_short_square', 'peak_v_long_square', 'peak_v_ramp',\n",
       "       'peak_v_short_square', 'rheobase_sweep_id', 'rheobase_sweep_number',\n",
       "       'ri', 'sag', 'seal_gohm', 'slow_trough_t_long_square',\n",
       "       'slow_trough_t_ramp', 'slow_trough_t_short_square',\n",
       "       'slow_trough_v_long_square', 'slow_trough_v_ramp',\n",
       "       'slow_trough_v_short_square', 'tau', 'threshold_i_long_square',\n",
       "       'threshold_i_ramp', 'threshold_i_short_square',\n",
       "       'threshold_t_long_square', 'threshold_t_ramp',\n",
       "       'threshold_t_short_square', 'threshold_v_long_square',\n",
       "       'threshold_v_ramp', 'threshold_v_short_square', 'thumbnail_sweep_id',\n",
       "       'trough_t_long_square', 'trough_t_ramp', 'trough_t_short_square',\n",
       "       'trough_v_long_square', 'trough_v_ramp', 'trough_v_short_square',\n",
       "       'upstroke_downstroke_ratio_long_square',\n",
       "       'upstroke_downstroke_ratio_ramp',\n",
       "       'upstroke_downstroke_ratio_short_square', 'vm_for_sag', 'vrest'],\n",
       "      dtype='object')"
      ]
     },
     "execution_count": 9,
     "metadata": {},
     "output_type": "execute_result"
    }
   ],
   "source": [
    "ephys_subset.columns.sort_values()"
   ]
  },
  {
   "cell_type": "code",
   "execution_count": 7,
   "metadata": {},
   "outputs": [
    {
     "data": {
      "text/plain": [
       "(601, 52)"
      ]
     },
     "execution_count": 7,
     "metadata": {},
     "output_type": "execute_result"
    }
   ],
   "source": [
    "ephys_subset.shape"
   ]
  },
  {
   "cell_type": "code",
   "execution_count": null,
   "metadata": {
    "nbgrader": {
     "grade": true,
     "grade_id": "cell-b366392c4a042c8f",
     "locked": true,
     "points": 1,
     "schema_version": 3,
     "solution": false,
     "task": false
    }
   },
   "outputs": [],
   "source": [
    "# Q3 tests\n",
    "assert isinstance(subset_rows, int)\n",
    "assert isinstance(subset_columns, int)"
   ]
  },
  {
   "cell_type": "code",
   "execution_count": null,
   "metadata": {
    "nbgrader": {
     "grade": true,
     "grade_id": "cell-823b7ca95f7f9e49",
     "locked": true,
     "points": 1,
     "schema_version": 3,
     "solution": false,
     "task": false
    }
   },
   "outputs": [],
   "source": [
    "# Hidden tests for Q3\n",
    "### BEGIN HIDDEN TESTS\n",
    "assert (subset_rows, subset_columns) == (601, 52)\n",
    "### END HIDDEN TESTS"
   ]
  },
  {
   "cell_type": "markdown",
   "metadata": {
    "nbgrader": {
     "grade": false,
     "grade_id": "cell-4c8815fa65887bbc",
     "locked": true,
     "schema_version": 3,
     "solution": false,
     "task": false
    }
   },
   "source": [
    "### Q4: _Add a column to separate fast- and slow-adapting specimens_ (4 pts)\n",
    "\n",
    "- An empty column in `ephys_subset` (`ephys_subset['adaptation_type']`) is created below, fill in this column as follows:\n",
    "    - Assign the rows for which `ephys_subset.adaptation` is **below its mean** the value `'slow'`\n",
    "    - Assign the rows for which `ephys_subset.adaptation` is **greater than or equal to its mean** the value `'fast'`\n",
    "    - _Hint:_ each the two operations can be accomplished along the lines of `df.loc[some_condition, 'column_name'] = 'value'`"
   ]
  },
  {
   "cell_type": "code",
   "execution_count": null,
   "metadata": {
    "nbgrader": {
     "grade": false,
     "grade_id": "cell-a83aec6fd24808ef",
     "locked": false,
     "schema_version": 3,
     "solution": true,
     "task": false
    }
   },
   "outputs": [],
   "source": [
    "ephys_subset['adaptation_type'] = pd.Series(index=ephys_subset.index)\n",
    "\n",
    "### BEGIN SOLUTION\n",
    "ephys_subset.loc[ephys_subset.adaptation < ephys_subset.adaptation.mean(), 'adaptation_type'] = 'slow'\n",
    "ephys_subset.loc[ephys_subset.adaptation >= ephys_subset.adaptation.mean(), 'adaptation_type'] = 'fast'\n",
    "ephys_subset.adaptation_type.unique()\n",
    "### END SOLUTION"
   ]
  },
  {
   "cell_type": "code",
   "execution_count": null,
   "metadata": {
    "nbgrader": {
     "grade": true,
     "grade_id": "cell-78c6e3a507d9f6d5",
     "locked": true,
     "points": 1,
     "schema_version": 3,
     "solution": false,
     "task": false
    }
   },
   "outputs": [],
   "source": [
    "# Q4 tests\n",
    "assert not ephys_subset.adaptation_type.isna().any() "
   ]
  },
  {
   "cell_type": "code",
   "execution_count": null,
   "metadata": {
    "nbgrader": {
     "grade": true,
     "grade_id": "cell-69f63e4c6b69eb18",
     "locked": true,
     "points": 3,
     "schema_version": 3,
     "solution": false,
     "task": false
    }
   },
   "outputs": [],
   "source": [
    "# Hidden tests for Q4\n",
    "### BEGIN HIDDEN TESTS\n",
    "assert sorted(ephys_subset.adaptation_type.unique()) == ['fast', 'slow']\n",
    "assert len(ephys_subset[ephys_subset['adaptation_type'] == 'fast']) == 164\n",
    "assert len(ephys_subset[ephys_subset['adaptation_type'] == 'slow']) == 437\n",
    "### END HIDDEN TESTS"
   ]
  },
  {
   "cell_type": "markdown",
   "metadata": {
    "nbgrader": {
     "grade": false,
     "grade_id": "cell-d1e4d993e8af5933",
     "locked": true,
     "schema_version": 3,
     "solution": false,
     "task": false
    }
   },
   "source": [
    "### Q5: _Normalize the subsetted data_ (4 pts)\n",
    "\n",
    "- A new dataframe, `ephys_norm` is a copy of `ephys_subset` with the `'adaptation_type'` column dropped\n",
    "- Normalize the data in this dataframe, the assign it back into `ephys_norm`"
   ]
  },
  {
   "cell_type": "code",
   "execution_count": null,
   "metadata": {
    "nbgrader": {
     "grade": false,
     "grade_id": "cell-bfd843ee2686e84b",
     "locked": false,
     "schema_version": 3,
     "solution": true,
     "task": false
    }
   },
   "outputs": [],
   "source": [
    "ephys_norm = ephys_subset.drop('adaptation_type', axis=1)\n",
    "### BEGIN SOLUTION\n",
    "ephys_norm = (ephys_norm - ephys_norm.mean()) / ephys_norm.std()\n",
    "# ephys_norm.head()\n",
    "### END SOLUTION"
   ]
  },
  {
   "cell_type": "code",
   "execution_count": null,
   "metadata": {
    "nbgrader": {
     "grade": true,
     "grade_id": "cell-ac80203f304d3c41",
     "locked": true,
     "points": 2,
     "schema_version": 3,
     "solution": false,
     "task": false
    }
   },
   "outputs": [],
   "source": [
    "# Q5 tests\n",
    "assert 'adaptation_type' not in ephys_norm.columns\n",
    "assert ephys_norm.shape[0] == ephys_subset.shape[0]\n",
    "assert ephys_norm.shape[1] == (ephys_subset.shape[1] - 1)"
   ]
  },
  {
   "cell_type": "code",
   "execution_count": null,
   "metadata": {
    "nbgrader": {
     "grade": true,
     "grade_id": "cell-aaef96fc47c80bdb",
     "locked": true,
     "points": 2,
     "schema_version": 3,
     "solution": false,
     "task": false
    }
   },
   "outputs": [],
   "source": [
    "# Hidden tests for Q5\n",
    "### BEGIN HIDDEN TESTS\n",
    "assert (ephys_norm.mean().round() == 0).all()\n",
    "assert (ephys_norm.std().round() == 1).all()\n",
    "### END HIDDEN TESTS"
   ]
  },
  {
   "cell_type": "markdown",
   "metadata": {
    "nbgrader": {
     "grade": false,
     "grade_id": "cell-3368ad0e8ba8f303",
     "locked": true,
     "schema_version": 3,
     "solution": false,
     "task": false
    }
   },
   "source": [
    "### Q6: _Covariance matrix_ (2 pts)\n",
    "\n",
    "- Compute the covariance matrix for `ephys_norm`, store it in a variable called `ephys_cov`\n",
    "- Plot this covariance matrix (using `plt.imshow()`)"
   ]
  },
  {
   "cell_type": "code",
   "execution_count": null,
   "metadata": {
    "nbgrader": {
     "grade": false,
     "grade_id": "cell-a7ea53e30884385c",
     "locked": false,
     "schema_version": 3,
     "solution": true,
     "task": false
    }
   },
   "outputs": [],
   "source": [
    "### BEGIN SOLUTION\n",
    "ephys_cov = ephys_norm.cov()\n",
    "\n",
    "plt.imshow(ephys_cov)\n",
    "plt.colorbar()\n",
    "plt.show()\n",
    "### END SOLUTION"
   ]
  },
  {
   "cell_type": "code",
   "execution_count": null,
   "metadata": {
    "nbgrader": {
     "grade": true,
     "grade_id": "cell-737e143ee2db0715",
     "locked": true,
     "points": 1,
     "schema_version": 3,
     "solution": false,
     "task": false
    }
   },
   "outputs": [],
   "source": [
    "# Q6 tests\n",
    "assert ephys_cov.shape == (52, 52)"
   ]
  },
  {
   "cell_type": "code",
   "execution_count": null,
   "metadata": {
    "nbgrader": {
     "grade": true,
     "grade_id": "cell-06ef3b2657abc495",
     "locked": true,
     "points": 1,
     "schema_version": 3,
     "solution": false,
     "task": false
    }
   },
   "outputs": [],
   "source": [
    "# Hidden tests for Q6\n",
    "### BEGIN HIDDEN TESTS\n",
    "assert (np.diagonal(ephys_cov).round() == 1).all()\n",
    "### END HIDDEN TESTS"
   ]
  },
  {
   "cell_type": "markdown",
   "metadata": {
    "nbgrader": {
     "grade": false,
     "grade_id": "cell-6c3b6983dac9eb80",
     "locked": true,
     "schema_version": 3,
     "solution": false,
     "task": false
    }
   },
   "source": [
    "### Q7: _Compute principal components_ (4 pts)\n",
    "\n",
    "- Initialize a PCA with 5 components, store it in a variable called `pca`\n",
    "- Fit this `pca` with the `ephys_norm` data\n",
    "- Transform `ephys_norm` using this `pca`, and store it in a variable called `ephys_2D`"
   ]
  },
  {
   "cell_type": "code",
   "execution_count": null,
   "metadata": {
    "nbgrader": {
     "grade": false,
     "grade_id": "cell-01660bc6d6994f55",
     "locked": false,
     "schema_version": 3,
     "solution": true,
     "task": false
    }
   },
   "outputs": [],
   "source": [
    "from sklearn.decomposition import PCA\n",
    "\n",
    "### BEGIN SOLUTION\n",
    "pca = PCA(n_components=5)\n",
    "pca.fit(ephys_norm)\n",
    "ephys_2D = pca.transform(ephys_norm)\n",
    "# ephys_2D.shape\n",
    "### END SOLUTION"
   ]
  },
  {
   "cell_type": "code",
   "execution_count": null,
   "metadata": {
    "nbgrader": {
     "grade": true,
     "grade_id": "cell-980d5644dd340295",
     "locked": true,
     "points": 2,
     "schema_version": 3,
     "solution": false,
     "task": false
    }
   },
   "outputs": [],
   "source": [
    "# Q7 tests\n",
    "assert pca.n_components == 5"
   ]
  },
  {
   "cell_type": "code",
   "execution_count": null,
   "metadata": {
    "nbgrader": {
     "grade": true,
     "grade_id": "cell-e272d4af581e7562",
     "locked": true,
     "points": 2,
     "schema_version": 3,
     "solution": false,
     "task": false
    }
   },
   "outputs": [],
   "source": [
    "# Hidden tests for Q7\n",
    "### BEGIN HIDDEN TESTS\n",
    "assert ephys_2D.shape == (601, 5)\n",
    "assert ephys_2D[:, 0].mean().round() == 0\n",
    "assert ephys_2D[:, 1].mean().round() == 0\n",
    "assert ephys_2D[:, 2].mean().round() == 0\n",
    "assert ephys_2D[:, 3].mean().round() == 0\n",
    "assert ephys_2D[:, 4].mean().round() == 0\n",
    "### END HIDDEN TESTS"
   ]
  },
  {
   "cell_type": "markdown",
   "metadata": {
    "nbgrader": {
     "grade": false,
     "grade_id": "cell-935997c0709728e0",
     "locked": true,
     "schema_version": 3,
     "solution": false,
     "task": false
    }
   },
   "source": [
    "### Q8: _Add PCs to original ephys data subset dataframe_ (2 pts)\n",
    "\n",
    "- Assign the first principal component to a column of `ephys_subset` called `'PC1'`\n",
    "- Assign each of the other 4 to `ephys_subset['PC2']`, `ephys_subset['PC3']`, etc."
   ]
  },
  {
   "cell_type": "code",
   "execution_count": null,
   "metadata": {
    "nbgrader": {
     "grade": false,
     "grade_id": "cell-543bdadd48fbe197",
     "locked": false,
     "schema_version": 3,
     "solution": true,
     "task": false
    }
   },
   "outputs": [],
   "source": [
    "### BEGIN SOLUTION\n",
    "ephys_subset['PC1'] = ephys_2D[:, 0]\n",
    "ephys_subset['PC2'] = ephys_2D[:, 1]\n",
    "ephys_subset['PC3'] = ephys_2D[:, 2]\n",
    "ephys_subset['PC4'] = ephys_2D[:, 3]\n",
    "ephys_subset['PC5'] = ephys_2D[:, 4]\n",
    "### END SOLUTION"
   ]
  },
  {
   "cell_type": "code",
   "execution_count": null,
   "metadata": {
    "nbgrader": {
     "grade": true,
     "grade_id": "cell-6b3625766ac94268",
     "locked": true,
     "points": 1,
     "schema_version": 3,
     "solution": false,
     "task": false
    }
   },
   "outputs": [],
   "source": [
    "# Q8 tests\n",
    "assert 'PC1' in ephys_subset.columns\n",
    "assert 'PC2' in ephys_subset.columns\n",
    "assert 'PC3' in ephys_subset.columns\n",
    "assert 'PC4' in ephys_subset.columns\n",
    "assert 'PC5' in ephys_subset.columns"
   ]
  },
  {
   "cell_type": "code",
   "execution_count": null,
   "metadata": {
    "nbgrader": {
     "grade": true,
     "grade_id": "cell-cc1a24bf090f5b99",
     "locked": true,
     "points": 1,
     "schema_version": 3,
     "solution": false,
     "task": false
    }
   },
   "outputs": [],
   "source": [
    "# Hidden tests for Q8\n",
    "### BEGIN HIDDEN TESTS\n",
    "assert (ephys_subset['PC1'] == ephys_2D[:, 0]).all()\n",
    "assert (ephys_subset['PC2'] == ephys_2D[:, 1]).all()\n",
    "assert (ephys_subset['PC3'] == ephys_2D[:, 2]).all()\n",
    "assert (ephys_subset['PC4'] == ephys_2D[:, 3]).all()\n",
    "assert (ephys_subset['PC5'] == ephys_2D[:, 4]).all()\n",
    "### END HIDDEN TESTS"
   ]
  },
  {
   "cell_type": "markdown",
   "metadata": {
    "nbgrader": {
     "grade": false,
     "grade_id": "cell-31403c28e53dc467",
     "locked": true,
     "schema_version": 3,
     "solution": false,
     "task": false
    }
   },
   "source": [
    "### Q9: _Plot PC2 vs. PC1, coloring by adaptation type_ (2 pts)\n",
    "\n",
    "- Create plot using `sns.lmplot()`\n",
    "- Do the two adaptation types _fully segregate_ by the first 2 PCs? Answer yes/no by assigning either _`True`_ or _`False`_ to a variable called `answer`."
   ]
  },
  {
   "cell_type": "code",
   "execution_count": null,
   "metadata": {
    "nbgrader": {
     "grade": false,
     "grade_id": "cell-adcaa8ff9923b50e",
     "locked": false,
     "schema_version": 3,
     "solution": true,
     "task": false
    }
   },
   "outputs": [],
   "source": [
    "answer = ... \n",
    "\n",
    "### BEGIN SOLUTION\n",
    "sns.lmplot(\"PC1\", \"PC2\", hue='adaptation_type', data=ephys_subset, fit_reg=False)\n",
    "plt.show()\n",
    "\n",
    "answer = False\n",
    "### END SOLUTION"
   ]
  },
  {
   "cell_type": "code",
   "execution_count": null,
   "metadata": {
    "nbgrader": {
     "grade": true,
     "grade_id": "cell-853b78061215333e",
     "locked": true,
     "points": 1,
     "schema_version": 3,
     "solution": false,
     "task": false
    }
   },
   "outputs": [],
   "source": [
    "# Q9 tests\n",
    "assert isinstance(answer, bool)"
   ]
  },
  {
   "cell_type": "code",
   "execution_count": null,
   "metadata": {
    "nbgrader": {
     "grade": true,
     "grade_id": "cell-6b38281224f1b81e",
     "locked": true,
     "points": 1,
     "schema_version": 3,
     "solution": false,
     "task": false
    }
   },
   "outputs": [],
   "source": [
    "# Hidden tests for Q9\n",
    "### BEGIN HIDDEN TESTS\n",
    "assert not answer\n",
    "### END HIDDEN TESTS"
   ]
  },
  {
   "cell_type": "markdown",
   "metadata": {
    "nbgrader": {
     "grade": false,
     "grade_id": "cell-3653a866f031b76a",
     "locked": true,
     "schema_version": 3,
     "solution": false,
     "task": false
    }
   },
   "source": [
    "### Q10: _Compute K-means clusters for k = 2_ (4 pts)\n",
    "\n",
    "- Initialize a _k-means_ clustering analysis with **2** clusters, assign this to a variable called `kmeans`\n",
    "- Fit `kmeans` with the data in `ephys_2D`\n",
    "- Assign the resulting clusters to a column called `'kmeans_2'` in the `ephys_subset` dataframe\n",
    "- Do you think this data is a good use case for _k_-means clustering?"
   ]
  },
  {
   "cell_type": "code",
   "execution_count": null,
   "metadata": {
    "nbgrader": {
     "grade": false,
     "grade_id": "cell-b6da2b312e4eadd8",
     "locked": false,
     "schema_version": 3,
     "solution": true,
     "task": false
    }
   },
   "outputs": [],
   "source": [
    "from sklearn.cluster import KMeans\n",
    "\n",
    "### BEGIN SOLUTION\n",
    "kmeans = KMeans(n_clusters=2) \n",
    "kmeans.fit(ephys_2D)\n",
    "ephys_subset['kmeans_2'] = kmeans.predict(ephys_2D)\n",
    "### END SOLUTION"
   ]
  },
  {
   "cell_type": "code",
   "execution_count": null,
   "metadata": {
    "nbgrader": {
     "grade": true,
     "grade_id": "cell-6c3dead250896680",
     "locked": true,
     "points": 2,
     "schema_version": 3,
     "solution": false,
     "task": false
    }
   },
   "outputs": [],
   "source": [
    "# Q10 tests\n",
    "assert kmeans.n_clusters == 2\n",
    "assert 'kmeans_2' in ephys_subset.columns"
   ]
  },
  {
   "cell_type": "code",
   "execution_count": null,
   "metadata": {
    "nbgrader": {
     "grade": true,
     "grade_id": "cell-c6b12fc59768a6fc",
     "locked": true,
     "points": 2,
     "schema_version": 3,
     "solution": false,
     "task": false
    }
   },
   "outputs": [],
   "source": [
    "# Hidden tests for Q10\n",
    "### BEGIN HIDDEN TESTS\n",
    "assert sorted(ephys_subset['kmeans_2'].unique()) == [0, 1]\n",
    "assert (ephys_subset['kmeans_2'] == kmeans.predict(ephys_2D)).all()\n",
    "### END HIDDEN TESTS"
   ]
  },
  {
   "cell_type": "markdown",
   "metadata": {
    "nbgrader": {
     "grade": false,
     "grade_id": "cell-4e785538fff1137d",
     "locked": true,
     "schema_version": 3,
     "solution": false,
     "task": false
    }
   },
   "source": [
    "### Q11: _Plot PC2 vs. PC1 by K-means cluster for k = 2_ (2 pts)\n",
    "\n",
    "- Create this plot using `sns.lmplot()` with the `ephys_subset` as data, using the `'kmeans_2'` for the hue\n",
    "- Assign the cluster centers from `kmeans` to a variable called `centers`\n",
    "- Add the `centers` to the plot using `plt.scatter()`\n",
    "- Do these clusters resemble the groupings by adaptation type, why or why not? \n",
    "    - Store your answer (_`True`_ or _`False`_) in a variable called `answer`\n",
    "    - and a short explanation (<=1 sentence, in the form of a string) in a variable called `explanation`"
   ]
  },
  {
   "cell_type": "code",
   "execution_count": null,
   "metadata": {
    "nbgrader": {
     "grade": false,
     "grade_id": "cell-75df41be850249e3",
     "locked": false,
     "schema_version": 3,
     "solution": true,
     "task": false
    }
   },
   "outputs": [],
   "source": [
    "answer = ...\n",
    "explanation = ...\n",
    "\n",
    "### BEGIN SOLUTION\n",
    "sns.lmplot(\"PC1\", \"PC2\", hue='kmeans_2', data=ephys_subset, fit_reg=False)\n",
    "centers = kmeans.cluster_centers_\n",
    "plt.scatter(centers[:, 0], centers[:, 1], c='black', s=200, alpha=0.5)\n",
    "plt.show()\n",
    "\n",
    "answer = False\n",
    "explanation = (\n",
    "    \"these clusters are based on many factors, \"\n",
    "    \"more than just the adaptation, \"\n",
    "    \"and clearly these clusters depend more on other variables\"\n",
    ")\n",
    "### END SOLUTION"
   ]
  },
  {
   "cell_type": "code",
   "execution_count": null,
   "metadata": {
    "nbgrader": {
     "grade": true,
     "grade_id": "cell-c88e4e683def8dfa",
     "locked": true,
     "points": 1,
     "schema_version": 3,
     "solution": false,
     "task": false
    }
   },
   "outputs": [],
   "source": [
    "# Q11 tests\n",
    "assert centers.shape == (2, 5)\n",
    "assert isinstance(answer, bool)\n",
    "assert isinstance(explanation, str)"
   ]
  },
  {
   "cell_type": "code",
   "execution_count": null,
   "metadata": {
    "nbgrader": {
     "grade": true,
     "grade_id": "cell-22ce28595ed41baf",
     "locked": true,
     "points": 1,
     "schema_version": 3,
     "solution": false,
     "task": false
    }
   },
   "outputs": [],
   "source": [
    "# Hidden tests for Q11\n",
    "### BEGIN HIDDEN TESTS\n",
    "assert (centers == kmeans.cluster_centers_).all()\n",
    "assert not answer\n",
    "assert len(explanation) > 0\n",
    "### END HIDDEN TESTS"
   ]
  },
  {
   "cell_type": "markdown",
   "metadata": {
    "nbgrader": {
     "grade": false,
     "grade_id": "cell-3746342a05243703",
     "locked": true,
     "schema_version": 3,
     "solution": false,
     "task": false
    }
   },
   "source": [
    "## Part II: _Signal Processing_\n",
    "\n",
    "- First, we will download some ECoG (electrocorticography, recordings made by placing electrodes directly on the surface of the cortex) data. The cell below will download and unzip the data for you. (However, if you have trouble with this step, you can download the data [here](http://neurotycho.brain.riken.jp/download/2015/20150120F1_Auditory+Oddball_Fr_Misako+Komatsu-Kana+Takaura_mat_ECoG32-Event-BrainMap.zip) and upload it to the same folder as this assignment.)\n",
    "- These data are from marmosets, provided courtesy of [NeuroTycho](http://neurotycho.org)\n",
    "    - Reference: [Komatsu, M., Takaura, K., & Fujii, N. (2015). \"Mismatch negativity in common marmosets: Whole-cortical recordings with multi-channel electrocorticograms.\" Scientific Reports, 5, 15006.](http://www.nature.com/articles/srep15006)\n",
    "- The following cell will download and unzip the data, saving within the folder containing this notebook\n",
    "\n",
    "(_All you need to do is run the following cell without modifications._)"
   ]
  },
  {
   "cell_type": "code",
   "execution_count": null,
   "metadata": {
    "nbgrader": {
     "grade": false,
     "grade_id": "cell-21907fc3c11ce8f0",
     "locked": true,
     "schema_version": 3,
     "solution": false,
     "task": false
    }
   },
   "outputs": [],
   "source": [
    "import urllib.request\n",
    "import zipfile \n",
    "\n",
    "# URL of data to download\n",
    "data_url = \"http://neurotycho.brain.riken.jp/download/2015/20150120F1_Auditory+Oddball_Fr_Misako+Komatsu-Kana+Takaura_mat_ECoG32-Event-BrainMap.zip\"\n",
    "\n",
    "# retrieve the data from the url\n",
    "local_filename, headers = urllib.request.urlretrieve(data_url, './ecog.zip')\n",
    "\n",
    "# unzip the data\n",
    "with zipfile.ZipFile(local_filename, 'r') as zip_ref:\n",
    "    zip_ref.extractall('.')"
   ]
  },
  {
   "cell_type": "markdown",
   "metadata": {
    "nbgrader": {
     "grade": false,
     "grade_id": "cell-0f635fd87f469173",
     "locked": true,
     "schema_version": 3,
     "solution": false,
     "task": false
    }
   },
   "source": [
    "- Next, we will load the ECoG data, saved as separate `.mat` files for each channel, into an array called `ecog_data`\n",
    "\n",
    "(_All you need to do is run the following cell without modifications._)"
   ]
  },
  {
   "cell_type": "code",
   "execution_count": null,
   "metadata": {
    "nbgrader": {
     "grade": false,
     "grade_id": "cell-7bc698edaf2a2e97",
     "locked": true,
     "schema_version": 3,
     "solution": false,
     "task": false
    }
   },
   "outputs": [],
   "source": [
    "import scipy.io\n",
    "\n",
    "ecog_data = []\n",
    "data_directory = \"./20150120F1_Auditory+Oddball_Fr_Misako+Komatsu-Kana+Takaura_mat_ECoG32-Event-BrainMap\" \n",
    "n_channels = 32\n",
    "channels = list(range(1, n_channels + 1))\n",
    "\n",
    "for channel in channels:\n",
    "    channel_mat_path = \"{}/ECoG_ch{}.mat\".format(data_directory, channel)\n",
    "    print(\"loading {}...\".format(channel_mat_path))\n",
    "    channel_mat = scipy.io.loadmat(channel_mat_path)\n",
    "    channel_name = \"ECoGData_ch{}\".format(channel)\n",
    "    ecog_data.append(channel_mat[channel_name][0])\n",
    "\n",
    "ecog_data = np.array(ecog_data)\n",
    "print(ecog_data.shape)"
   ]
  },
  {
   "cell_type": "markdown",
   "metadata": {
    "nbgrader": {
     "grade": false,
     "grade_id": "cell-f05655add2c9f056",
     "locked": true,
     "schema_version": 3,
     "solution": false,
     "task": false
    }
   },
   "source": [
    "- Finally, we will load the information on each of the ECoG array channels in a dataframe called `channels_df`\n",
    "\n",
    "(_All you need to do is run the following cell without modifications._)"
   ]
  },
  {
   "cell_type": "code",
   "execution_count": null,
   "metadata": {
    "nbgrader": {
     "grade": false,
     "grade_id": "cell-528e291a4160b1b3",
     "locked": true,
     "schema_version": 3,
     "solution": false,
     "task": false
    }
   },
   "outputs": [],
   "source": [
    "ElectrodesFr = scipy.io.loadmat(\"{}/ElectrodesFr.mat\".format(data_directory))\n",
    "channels_df = pd.DataFrame(np.array([np.array(channels), ElectrodesFr['X'][0], ElectrodesFr['Y'][0]]).T, columns=['channel', 'X', 'Y'])\n",
    "channels_df"
   ]
  },
  {
   "cell_type": "markdown",
   "metadata": {
    "nbgrader": {
     "grade": false,
     "grade_id": "cell-78e04c902f4705eb",
     "locked": true,
     "schema_version": 3,
     "solution": false,
     "task": false
    }
   },
   "source": [
    "### Q12: _Plot ECoG array electrode positions_ (2 pts)\n",
    "\n",
    "- Create a scatterplot of the channels, with their x-coordinates (`channels_df.X`) on the x-axis, and their y-coordinates (`channels_df.Y`) on the y-axis\n",
    "- Label the x-axis `'x-coordinate'` and the y-axis `'y-coordinate'`\n",
    "- What do you notice about the pattern of electrodes?"
   ]
  },
  {
   "cell_type": "code",
   "execution_count": null,
   "metadata": {
    "nbgrader": {
     "grade": false,
     "grade_id": "cell-c3d2d40f9bb082bf",
     "locked": false,
     "schema_version": 3,
     "solution": true,
     "task": false
    }
   },
   "outputs": [],
   "source": [
    "fig = plt.figure()\n",
    "\n",
    "### BEGIN SOLUTION\n",
    "plt.scatter(channels_df.X, channels_df.Y)\n",
    "plt.title(\"Electrode positions\")\n",
    "plt.xlabel(\"x-coordinate\")\n",
    "plt.ylabel(\"y-coordinate\")\n",
    "plt.show()\n",
    "### END SOLUTION"
   ]
  },
  {
   "cell_type": "code",
   "execution_count": null,
   "metadata": {
    "nbgrader": {
     "grade": true,
     "grade_id": "cell-3c9894f16ecc347c",
     "locked": true,
     "points": 1,
     "schema_version": 3,
     "solution": false,
     "task": false
    }
   },
   "outputs": [],
   "source": [
    "# Q12 tests\n",
    "assert fig.axes[0]._visible"
   ]
  },
  {
   "cell_type": "code",
   "execution_count": null,
   "metadata": {
    "nbgrader": {
     "grade": true,
     "grade_id": "cell-43bf653abbfb35ae",
     "locked": true,
     "points": 1,
     "schema_version": 3,
     "solution": false,
     "task": false
    }
   },
   "outputs": [],
   "source": [
    "# Hidden tests for Q12\n",
    "### BEGIN HIDDEN TESTS\n",
    "assert fig.axes[0].xaxis.label._text.lower() == 'x-coordinate'\n",
    "assert fig.axes[0].yaxis.label._text.lower() == 'y-coordinate'\n",
    "### END HIDDEN TESTS"
   ]
  },
  {
   "cell_type": "markdown",
   "metadata": {
    "nbgrader": {
     "grade": false,
     "grade_id": "cell-000079b116406648",
     "locked": true,
     "schema_version": 3,
     "solution": false,
     "task": false
    }
   },
   "source": [
    "### Q13: _View ECoG recording data_ (6 pts)\n",
    "\n",
    "- Create a loop going through each of the `channels`, adding each channel's data (remember the index in the `ecog_data` matrix is 1 less than the channel number) to the plot\n",
    "- In order to offset the traces so they don't all overlap, add the value of `y` to each channel's data, increasing `y` by `y_offset` with each loop iteration\n",
    "- There should be 32 total lines (this is worth points)\n",
    "- Label the x-axis `'Samples'`"
   ]
  },
  {
   "cell_type": "code",
   "execution_count": null,
   "metadata": {
    "nbgrader": {
     "grade": false,
     "grade_id": "cell-0407f8d25abfd5e8",
     "locked": false,
     "schema_version": 3,
     "solution": true,
     "task": false
    }
   },
   "outputs": [],
   "source": [
    "fig, ax = plt.subplots(figsize=(15,10))\n",
    "y = 0\n",
    "y_offset = 2000\n",
    "\n",
    "for channel in channels:\n",
    "### BEGIN SOLUTION\n",
    "    plt.plot(ecog_data[channel-1, :] + y)\n",
    "    y += y_offset\n",
    "    \n",
    "plt.xlabel('Samples')\n",
    "plt.show()\n",
    "### END SOLUTION"
   ]
  },
  {
   "cell_type": "code",
   "execution_count": null,
   "metadata": {
    "nbgrader": {
     "grade": true,
     "grade_id": "cell-aafa052283871496",
     "locked": true,
     "points": 2,
     "schema_version": 3,
     "solution": false,
     "task": false
    }
   },
   "outputs": [],
   "source": [
    "# Q13 tests\n",
    "assert ax._visible"
   ]
  },
  {
   "cell_type": "code",
   "execution_count": null,
   "metadata": {
    "nbgrader": {
     "grade": true,
     "grade_id": "cell-33750ded3a0462d3",
     "locked": true,
     "points": 4,
     "schema_version": 3,
     "solution": false,
     "task": false
    }
   },
   "outputs": [],
   "source": [
    "# Hidden tests for Q13\n",
    "### BEGIN HIDDEN TESTS\n",
    "assert ax.xaxis.label._text.lower() == 'samples'\n",
    "assert len(ax.lines) == 32\n",
    "### END HIDDEN TESTS"
   ]
  },
  {
   "cell_type": "markdown",
   "metadata": {
    "nbgrader": {
     "grade": false,
     "grade_id": "cell-a5a9471077e28826",
     "locked": true,
     "schema_version": 3,
     "solution": false,
     "task": false
    }
   },
   "source": [
    "- Any signal can be decomposed into different frequency components\n",
    "- _Neural oscillations_ refer to particular bands (frequency ranges) within a neural signal, with certain brain states and phenomena being associated with particular ranges\n",
    "- We can examine the activity in a specified oscillatory band by computing a _band-pass_, which excludes any signal component outside the specified frequency ranges, but lets components within the range 'pass'\n",
    "- Some commonly cited oscillations are listed below with their approximate frequency ranges:\n",
    "    - [_alpha_](https://en.wikipedia.org/wiki/Alpha_wave) between 8 and 12 Hz\n",
    "    - [_beta_](https://en.wikipedia.org/wiki/Beta_wave) between 12.5 and 30 Hz\n",
    "    - [_gamma_](https://en.wikipedia.org/wiki/Gamma_wave) between 25 and 170 Hz\n",
    "        - 'high' _gamma_ above ~90 Hz (which is particularly associated with spiking activity)\n",
    "    - [_delta_](https://en.wikipedia.org/wiki/Delta_wave) between 0.4 and 4 Hz (often simply referred to as '_slow oscillations_')\n",
    "    - [_theta_](https://en.wikipedia.org/wiki/Theta_wave) between 4 and 8 Hz"
   ]
  },
  {
   "cell_type": "code",
   "execution_count": null,
   "metadata": {
    "nbgrader": {
     "grade": false,
     "grade_id": "cell-4baf1c404abebe40",
     "locked": true,
     "schema_version": 3,
     "solution": false,
     "task": false
    }
   },
   "outputs": [],
   "source": [
    "from scipy import signal\n",
    "\n",
    "oscillations = {\n",
    "    'alpha': [8, 12],\n",
    "    'beta': [12.5, 30],\n",
    "    'gamma': [25, 170],\n",
    "    'high-gamma': [90, 170],\n",
    "    'delta': [0.5, 4],\n",
    "    'theta': [4, 8]\n",
    "}"
   ]
  },
  {
   "cell_type": "markdown",
   "metadata": {
    "nbgrader": {
     "grade": false,
     "grade_id": "cell-943840a5d9657c67",
     "locked": true,
     "schema_version": 3,
     "solution": false,
     "task": false
    }
   },
   "source": [
    "### Q14: _Compute bandpasses for each oscillation for channel 1_ (6 pts)\n",
    "\n",
    "- We compute a bandpass by first applying a _low-pass filter_, followed by a _high-pass filter_ (or vice versa)\n",
    "- Signal filtration is usually accomplished in 2 steps\n",
    "    1. Design a _filter kernel_\n",
    "    2. Apply the filter kernel to the data\n",
    "- We will use a Butterworth filter\n",
    "    - We design the filter in Python using `scipy`'s `signal.butter` function\n",
    "        - It takes 3 arguments\n",
    "            1. The _filter order_ (we'll use a 4th order filter)\n",
    "            2. The _filter frequency_ (we must adjust for the sampling frequency, `f_s`, which is 1000 Hz for these data, i.e. 1000 data points were recorded per second)\n",
    "            3. The type of filter (`'lowpass'` or `'highpass'`)\n",
    "        - It returns 2 filter parameters, `a` and `b`\n",
    "- Then, the bandpass filter is applied using `signal.filtfilt`, which takes as its parameters `b`, `a`, and the signal to be processed\n",
    "- Below, an example bandpass computation is shown to extract the _alpha_ rhythm from the channel 1 data, the results are stored in a dictionary called `oscillations_filtered`, with the oscillation name (e.g. `'alpha'`) as the key\n",
    "- **Compute the bandpasses for each of the other oscillations included in `oscillations` and add them to `oscillations_filtered`** (try doing it with a loop!)\n",
    "- _(You may see a warning highlighted in pink, which you can ignore)_"
   ]
  },
  {
   "cell_type": "code",
   "execution_count": null,
   "metadata": {
    "nbgrader": {
     "grade": false,
     "grade_id": "cell-db19588ce31c08cd",
     "locked": false,
     "schema_version": 3,
     "solution": true,
     "task": false
    }
   },
   "outputs": [],
   "source": [
    "channel = 1\n",
    "data = ecog_data[channel-1, :]\n",
    "f_s = 1000 # sampling frequency\n",
    "\n",
    "oscillations_filtered = {}\n",
    "\n",
    "oscillation ='alpha'\n",
    "freqs = oscillations[oscillation]\n",
    "f_L, f_H = freqs\n",
    "print(\"filtering between {} and {} Hz for {} oscillation...\".format(f_L, f_H, oscillation))\n",
    "b, a = signal.butter(4, (f_H / (f_s / 2)), 'lowpass') # (f_H / (f_s / 2)) is to account for the sampling frequency\n",
    "lowpassed = signal.filtfilt(b, a, data)\n",
    "b, a = signal.butter(4, (f_L / (f_s / 2)), 'highpass')\n",
    "bandpassed = signal.filtfilt(b, a, lowpassed)\n",
    "oscillations_filtered[oscillation] = bandpassed\n",
    "\n",
    "### BEGIN SOLUTION\n",
    "for oscillation, freqs in oscillations.items():\n",
    "    f_L, f_H = freqs\n",
    "    print(\"filtering between {} and {} Hz for {} oscillation...\".format(f_L, f_H, oscillation))\n",
    "    b, a = signal.butter(4, (f_H / (f_s / 2)), 'lowpass')\n",
    "    lowpassed = signal.filtfilt(b, a, data)\n",
    "    b, a = signal.butter(4, (f_L / (f_s / 2)), 'highpass')\n",
    "    bandpassed = signal.filtfilt(b, a, lowpassed)\n",
    "    oscillations_filtered[oscillation] = bandpassed\n",
    "    \n",
    "oscillations_filtered\n",
    "### END SOLUTION"
   ]
  },
  {
   "cell_type": "code",
   "execution_count": null,
   "metadata": {
    "nbgrader": {
     "grade": true,
     "grade_id": "cell-af7f4bf6d162447e",
     "locked": true,
     "points": 2,
     "schema_version": 3,
     "solution": false,
     "task": false
    }
   },
   "outputs": [],
   "source": [
    "# Q14 tests\n",
    "assert 'alpha' in oscillations_filtered\n",
    "assert 'beta' in oscillations_filtered\n",
    "assert 'gamma' in oscillations_filtered\n",
    "assert 'high-gamma' in oscillations_filtered\n",
    "assert 'delta' in oscillations_filtered\n",
    "assert 'theta' in oscillations_filtered"
   ]
  },
  {
   "cell_type": "code",
   "execution_count": null,
   "metadata": {
    "nbgrader": {
     "grade": true,
     "grade_id": "cell-11258a0c3ed6bfc6",
     "locked": true,
     "points": 4,
     "schema_version": 3,
     "solution": false,
     "task": false
    }
   },
   "outputs": [],
   "source": [
    "# Hidden tests for Q14\n",
    "### BEGIN HIDDEN TESTS\n",
    "assert isinstance(oscillations_filtered['alpha'], np.ndarray)\n",
    "assert isinstance(oscillations_filtered['beta'], np.ndarray)\n",
    "assert isinstance(oscillations_filtered['gamma'], np.ndarray)\n",
    "assert isinstance(oscillations_filtered['high-gamma'], np.ndarray)\n",
    "assert isinstance(oscillations_filtered['delta'], np.ndarray)\n",
    "assert isinstance(oscillations_filtered['theta'], np.ndarray)\n",
    "### END HIDDEN TESTS"
   ]
  },
  {
   "cell_type": "markdown",
   "metadata": {
    "nbgrader": {
     "grade": false,
     "grade_id": "cell-54be96b2a90e84ba",
     "locked": true,
     "schema_version": 3,
     "solution": false,
     "task": false
    }
   },
   "source": [
    "### Q15: _Plot channel 1 data with bandpassed oscillations_ (6 pts)\n",
    "\n",
    "- Create a figure with 7 subplots (the raw ECoG data plus each of the bandpassed oscillations)\n",
    "- Entitle the first row `'Raw ECoG'`\n",
    "- Then, for each oscillation, entitle its subplot `'<oscillation> band'` (i.e. `oscilation + ' band'`, or equivalently `'{} band'.format(oscillation)`)\n",
    "- Label the x-axis `'Samples'` for the bottom row"
   ]
  },
  {
   "cell_type": "code",
   "execution_count": null,
   "metadata": {
    "nbgrader": {
     "grade": false,
     "grade_id": "cell-942529cc7890ef2b",
     "locked": false,
     "schema_version": 3,
     "solution": true,
     "task": false
    }
   },
   "outputs": [],
   "source": [
    "fig, ax = plt.subplots(len(oscillations)+1, 1, figsize=(15,10), sharex=True)\n",
    "\n",
    "### BEGIN SOLUTION\n",
    "subplot = 0\n",
    "ax[subplot].plot(data)\n",
    "ax[subplot].set_title('Raw ECoG')\n",
    "for oscillation in oscillations:\n",
    "    subplot += 1\n",
    "    ax[subplot].plot(oscillations_filtered[oscillation])\n",
    "    ax[subplot].set_title('{} band'.format(oscillation))\n",
    "ax[subplot].set_xlabel('Samples')\n",
    "plt.show()\n",
    "### END SOLUTION"
   ]
  },
  {
   "cell_type": "code",
   "execution_count": null,
   "metadata": {
    "nbgrader": {
     "grade": true,
     "grade_id": "cell-6c3a6920d221746f",
     "locked": true,
     "points": 2,
     "schema_version": 3,
     "solution": false,
     "task": false
    }
   },
   "outputs": [],
   "source": [
    "# Q15 tests\n",
    "assert len(fig.axes) == 7"
   ]
  },
  {
   "cell_type": "code",
   "execution_count": null,
   "metadata": {
    "nbgrader": {
     "grade": true,
     "grade_id": "cell-1524f81bd23ca083",
     "locked": true,
     "points": 4,
     "schema_version": 3,
     "solution": false,
     "task": false
    }
   },
   "outputs": [],
   "source": [
    "# Hidden tests for Q15\n",
    "### BEGIN HIDDEN TESTS\n",
    "assert 'samples' in [a.xaxis.label._text.lower() for a in fig.axes]\n",
    "### END HIDDEN TESTS"
   ]
  }
 ],
 "metadata": {
  "celltoolbar": "Create Assignment",
  "kernelspec": {
   "display_name": "Python 3",
   "language": "python",
   "name": "python3"
  },
  "language_info": {
   "codemirror_mode": {
    "name": "ipython",
    "version": 3
   },
   "file_extension": ".py",
   "mimetype": "text/x-python",
   "name": "python",
   "nbconvert_exporter": "python",
   "pygments_lexer": "ipython3",
   "version": "3.8.8"
  }
 },
 "nbformat": 4,
 "nbformat_minor": 4
}
